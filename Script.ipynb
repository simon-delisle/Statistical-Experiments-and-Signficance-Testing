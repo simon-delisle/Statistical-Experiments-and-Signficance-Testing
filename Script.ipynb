{
 "cells": [
  {
   "cell_type": "markdown",
   "id": "b083ddad-90e9-40a3-9f8c-600ee10b2e00",
   "metadata": {},
   "source": [
    "# Statistical Experiments and Signficance Testing"
   ]
  },
  {
   "cell_type": "markdown",
   "id": "c1924097-09f6-480a-ba31-eeae33cd2b0e",
   "metadata": {},
   "source": [
    "The goal of this notebook is to explore an A/B testing dataset found on Kaggle. In this dataset, multiple users are shown the current web page (control group) while other users are shown a new page.A summary of the finding is presented below:\n",
    "- The conversion of the control group is 12.03% and the conversion of the treatment group is 11.89%.\n",
    "- There is a 89.5% that there is in fact a effect due to the treatment and that the discrepency is not just a result of chance (ie p-value of 0.105).\n",
    "- By target in advance what the goal of the experiment is, the sample size can be greatly reduced, for example:\n",
    "    - A sample of 64602 observations is necessary to have a 95% chance detecting a 5% increase in conversions with an alpha of 0.05.\n",
    "    - A sample of 20000 observations is enough to have a 50% chance detecting a 5% increase in conversions with an alpha of 0.05."
   ]
  },
  {
   "cell_type": "markdown",
   "id": "87083f53-9102-45bb-a420-bbc6395c5ae7",
   "metadata": {},
   "source": [
    "# Table of Content\n",
    "- [Import Libraries](#section#1)\n",
    "    - [Functions](#section#2)\n",
    "- [Import and look at the Data](#section#3)\n",
    "    - [Section Summary](#section#4)\n",
    "    - [Section Code](#section#5)\n",
    "        - [Read the Data](#section#6)\n",
    "        - [Look at the Data](#section#7)\n",
    "        - [Estimate Conversions](#section#8)\n",
    "- [Signficance Testing](#section#9)\n",
    "    - [Section Summary](#section#10)\n",
    "    - [Section Code](#section#11)\n",
    "        - [Permutation Test](#section#12)\n",
    "- [Power and Sample Size ](#section#13)\n",
    "    - [Section Summary](#section#14)\n",
    "    - [Section Code](#section#15)\n",
    "        - [Required Sample Size with Given Parameters](#section#16)\n",
    "        - [Effect of Power on Sample Size](#section#17)"
   ]
  },
  {
   "cell_type": "markdown",
   "id": "735f3959-1ffe-4edf-a5b2-5d457bbad586",
   "metadata": {},
   "source": [
    "# Import Libraries <a class=\"anchor\" id=\"#section1\"></a>\n",
    "We first import all libraries used in this notebook."
   ]
  },
  {
   "cell_type": "code",
   "execution_count": 53,
   "id": "52828b3f-f574-4e89-a05b-f08c727539f8",
   "metadata": {},
   "outputs": [],
   "source": [
    "# Statistics\n",
    "import statsmodels.api as sm\n",
    "\n",
    "# Data Manipulation\n",
    "import numpy as np # play with arrays\n",
    "import pandas as pd # play with dfs\n",
    "\n",
    "# Data Vizualization and Exploration\n",
    "import pandas_profiling # complete EDA in 1 line of code\n",
    "import matplotlib.pyplot as plt # charting library\n",
    "%matplotlib inline\n",
    "\n",
    "# Utils\n",
    "from tqdm.notebook import tqdm # progress bar in loops\n",
    "import random"
   ]
  },
  {
   "cell_type": "markdown",
   "id": "9c80dc85-409f-406a-aec1-1585099b6a8a",
   "metadata": {},
   "source": [
    "# Functions <a class=\"anchor\" id=\"#section2\"></a>\n",
    "The functions used in this notebook are defined below. "
   ]
  },
  {
   "cell_type": "code",
   "execution_count": 54,
   "id": "1fea98ea-8f4e-4448-9d2f-77eaadd6d30a",
   "metadata": {},
   "outputs": [],
   "source": [
    "\n",
    "def permutation(x, nA, nB):\n",
    "    '''\n",
    "    Run a permutation test.\n",
    "    There is a great vizual example of a permutation test here: https://www.jwilber.me/permutationtest/\n",
    "    \n",
    "    Arguments:\n",
    "    x: combined dataset (A and B) in array form\n",
    "    nA: group A size\n",
    "    nB: group B size\n",
    "    \n",
    "    Returns:\n",
    "    The difference the mean of a randomly sample group of size nA and a randomly sampled group of size nB.\n",
    "    '''\n",
    "    n = nA + nB\n",
    "    idx_B = set(random.sample(range(n), nB))\n",
    "    idx_A = set(range(n)) - idx_B\n",
    "    return x.loc[idx_B].mean() - x.loc[idx_A].mean()\n",
    "\n",
    "def sample_from_power(effect_size, power, control, alpha):\n",
    "    '''\n",
    "    Estimate required sample size to find a effect at a given power with a given alpha.\n",
    "    \n",
    "    Arguments:\n",
    "    effect_size: effect size (for example 5% increase in conversions).\n",
    "    power: probability of detecting a given effect size with a given sample size.\n",
    "    control: control group value (for example 105 conversions in control group).\n",
    "    alpha: signficance level at which the test will be conducted.\n",
    "    \n",
    "    Returns:\n",
    "    The sample size required in the test to detect the effect at a given power and alpha.\n",
    "    '''    \n",
    "    effect_size = sm.stats.proportion_effectsize((1+effect_size)*control, control)\n",
    "    analysis = sm.stats.TTestIndPower()\n",
    "    result = analysis.solve_power(effect_size=effect_size,\n",
    "                                  alpha=alpha,\n",
    "                                  power=power,\n",
    "                                  alternative='larger')\n",
    "    return result"
   ]
  },
  {
   "cell_type": "markdown",
   "id": "fcc07dcb-c8bb-419f-99e4-1013839cb2a4",
   "metadata": {},
   "source": [
    "# Import and look at the Data <a class=\"anchor\" id=\"#section3\"></a>"
   ]
  },
  {
   "cell_type": "markdown",
   "id": "44f53e8f-7749-4074-9647-211771dbbe71",
   "metadata": {},
   "source": [
    "## Section Summary <a class=\"anchor\" id=\"#section4\"></a>\n",
    "The A/B testing dataset was found on Kaggle. <br>\n",
    "Source: https://www.kaggle.com/zhangluyuan/ab-testing\n",
    "\n",
    "In this section:\n",
    "- The dataset is downloaded from Kaggle and read.\n",
    "- The period of the test data cleanliness is checked.\n",
    "- The convertion for each group was estimated.\n",
    "\n",
    "This simple dataset consists of conbertion data for a group using an old landing page (the control group) and a group using a new landing page (the treatment group). Importing and briefly looking at the data leads to the following takeaways:\n",
    "- The test data was collected between January 2nd and January 24th 2017. No seasonality effect will be considered in the analysis.\n",
    "- The test contains a total od 294,478 clean data points. No data pre-processing is required.\n",
    "- The control and treatment group both represent about 50% of the sample.\n",
    "- The conversion of the control group is 12.03% and the conversion of the treatment group is 11.89%."
   ]
  },
  {
   "cell_type": "markdown",
   "id": "875bba6b-5a12-4178-9c25-b597fd81fd5b",
   "metadata": {
    "tags": []
   },
   "source": [
    "## Section Code <a class=\"anchor\" id=\"#section5\"></a>"
   ]
  },
  {
   "cell_type": "markdown",
   "id": "2567302d-749d-452f-8a96-c61e68b4308a",
   "metadata": {},
   "source": [
    "### Read the Data <a class=\"anchor\" id=\"#section6\"></a>"
   ]
  },
  {
   "cell_type": "code",
   "execution_count": 55,
   "id": "7310fc28-2e28-4026-b0b4-17a221a52fc9",
   "metadata": {},
   "outputs": [
    {
     "name": "stdout",
     "output_type": "stream",
     "text": [
      "<class 'pandas.core.frame.DataFrame'>\n",
      "Int64Index: 294478 entries, 131228 to 193652\n",
      "Data columns (total 5 columns):\n",
      " #   Column        Non-Null Count   Dtype \n",
      "---  ------        --------------   ----- \n",
      " 0   user_id       294478 non-null  int64 \n",
      " 1   timestamp     294478 non-null  object\n",
      " 2   group         294478 non-null  object\n",
      " 3   landing_page  294478 non-null  object\n",
      " 4   converted     294478 non-null  int64 \n",
      "dtypes: int64(2), object(3)\n",
      "memory usage: 13.5+ MB\n"
     ]
    }
   ],
   "source": [
    "df = pd.read_csv('ab_data.csv').sort_values(by='timestamp')\n",
    "df.info()"
   ]
  },
  {
   "cell_type": "markdown",
   "id": "a9be5679-7ccd-4fdc-8ce0-863b7446ffe5",
   "metadata": {},
   "source": [
    "### Look at the Data <a class=\"anchor\" id=\"#section7\"></a>"
   ]
  },
  {
   "cell_type": "code",
   "execution_count": 56,
   "id": "0fe766e8-d9fb-4a34-bd03-e360f0f0941c",
   "metadata": {},
   "outputs": [
    {
     "data": {
      "application/vnd.jupyter.widget-view+json": {
       "model_id": "20da2643cce64f0b93c2f0e36e9e5e35",
       "version_major": 2,
       "version_minor": 0
      },
      "text/plain": [
       "Summarize dataset:   0%|          | 0/19 [00:00<?, ?it/s]"
      ]
     },
     "metadata": {},
     "output_type": "display_data"
    },
    {
     "data": {
      "application/vnd.jupyter.widget-view+json": {
       "model_id": "a2df3d7f10204dc7a7103da7e18fca00",
       "version_major": 2,
       "version_minor": 0
      },
      "text/plain": [
       "Generate report structure:   0%|          | 0/1 [00:00<?, ?it/s]"
      ]
     },
     "metadata": {},
     "output_type": "display_data"
    },
    {
     "data": {
      "application/vnd.jupyter.widget-view+json": {
       "model_id": "38d4fc3571e747048793a61239bda63e",
       "version_major": 2,
       "version_minor": 0
      },
      "text/plain": [
       "Render HTML:   0%|          | 0/1 [00:00<?, ?it/s]"
      ]
     },
     "metadata": {},
     "output_type": "display_data"
    },
    {
     "data": {
      "application/vnd.jupyter.widget-view+json": {
       "model_id": "ae2a73e02c73440b9c468c14bb2d5b5a",
       "version_major": 2,
       "version_minor": 0
      },
      "text/plain": [
       "Export report to file:   0%|          | 0/1 [00:00<?, ?it/s]"
      ]
     },
     "metadata": {},
     "output_type": "display_data"
    }
   ],
   "source": [
    "pandas_profiling.ProfileReport(df).to_file('ab_testing.html')"
   ]
  },
  {
   "cell_type": "markdown",
   "id": "9cb3aa19-1248-4ecc-bc8c-cf8792bb4b05",
   "metadata": {},
   "source": [
    "### Estimate Conversions <a class=\"anchor\" id=\"#section8\"></a>"
   ]
  },
  {
   "cell_type": "code",
   "execution_count": 57,
   "id": "b0598def-51a7-4684-b9c4-e66810b3ca2c",
   "metadata": {},
   "outputs": [
    {
     "data": {
      "text/plain": [
       "group\n",
       "control      17723\n",
       "treatment    17514\n",
       "Name: converted, dtype: int64"
      ]
     },
     "execution_count": 57,
     "metadata": {},
     "output_type": "execute_result"
    }
   ],
   "source": [
    "conversions = df[df.converted==1].groupby('group').converted.count()\n",
    "conversions"
   ]
  },
  {
   "cell_type": "code",
   "execution_count": 58,
   "id": "60a4b2dd-313d-4845-abd4-702d81da93c7",
   "metadata": {},
   "outputs": [
    {
     "data": {
      "text/plain": [
       "group\n",
       "control      147202\n",
       "treatment    147276\n",
       "Name: converted, dtype: int64"
      ]
     },
     "execution_count": 58,
     "metadata": {},
     "output_type": "execute_result"
    }
   ],
   "source": [
    "sample_size = df.groupby('group').converted.count()\n",
    "sample_size"
   ]
  },
  {
   "cell_type": "code",
   "execution_count": 59,
   "id": "ecdfe3a7-bdf2-481a-956f-7abff6587260",
   "metadata": {},
   "outputs": [
    {
     "data": {
      "text/plain": [
       "group\n",
       "control      0.120399\n",
       "treatment    0.118920\n",
       "Name: converted, dtype: float64"
      ]
     },
     "execution_count": 59,
     "metadata": {},
     "output_type": "execute_result"
    }
   ],
   "source": [
    "percent_convertion = conversions / sample_size\n",
    "percent_convertion"
   ]
  },
  {
   "cell_type": "markdown",
   "id": "d4c02611-fb64-4036-8e57-d74a69e75496",
   "metadata": {},
   "source": [
    "# Signficance Testing <a class=\"anchor\" id=\"#section9\"></a>"
   ]
  },
  {
   "cell_type": "markdown",
   "id": "4a7311a0-a44e-40c7-8a6b-dee7970f33ba",
   "metadata": {},
   "source": [
    "## Section Summary <a class=\"anchor\" id=\"#section10\"></a>\n",
    "We have seen in the previous that the conversion is higher for the control group. Since we do not have information on the reason of the experiment in the dataset, we do not know if the new page is preferable in significant ways other than conversion. Examples of reasons could be:\n",
    "- Performs better on some other metric not defined in this dataset.\n",
    "- Esthetic of the new page better aligned with company branding.\n",
    "- Any other reason that could tilt the balance in the favor of the new page\n",
    "\n",
    "For this reason, we need to have the complete picture, ie know if the difference in conversion between the old and new landing page is significant. To do that, we will perform a permutation test.\n",
    "\n",
    "In this section:\n",
    "- A permutation test is done.\n",
    "- the p-value is estimated (0.1045).\n",
    "- The p-value of 0.1045 means that we would expect to achieve a result as extreme or more extreme than the result observed in the data by random chance 10.45% of the time.\n"
   ]
  },
  {
   "cell_type": "markdown",
   "id": "6bfd223d-7d4b-4986-a3c2-b31cfd3e022e",
   "metadata": {},
   "source": [
    "## Section Code <a class=\"anchor\" id=\"#section11\"></a>"
   ]
  },
  {
   "cell_type": "markdown",
   "id": "2b9b2554-483e-4c74-bbb1-fd89a4574ca6",
   "metadata": {},
   "source": [
    "### Permutation Test <a class=\"anchor\" id=\"#section12\"></a>"
   ]
  },
  {
   "cell_type": "code",
   "execution_count": 60,
   "id": "3c50040d-7a47-4a17-832c-9cde5eb44e38",
   "metadata": {},
   "outputs": [
    {
     "data": {
      "application/vnd.jupyter.widget-view+json": {
       "model_id": "43ffd913af28493a8b04af2b8a9cbc81",
       "version_major": 2,
       "version_minor": 0
      },
      "text/plain": [
       "  0%|          | 0/2000 [00:00<?, ?it/s]"
      ]
     },
     "metadata": {},
     "output_type": "display_data"
    }
   ],
   "source": [
    "permutation_differences = [permutation(df.converted, sample_size[0], sample_size[1]) for _ in tqdm(range(2000))]"
   ]
  },
  {
   "cell_type": "code",
   "execution_count": 61,
   "id": "0632c365-abda-4409-ac61-32deacbe24de",
   "metadata": {},
   "outputs": [
    {
     "data": {
      "text/plain": [
       "Text(0.5, 1.0, 'Permutation Test')"
      ]
     },
     "execution_count": 61,
     "metadata": {},
     "output_type": "execute_result"
    },
    {
     "data": {
      "image/png": "[encoded data removed]",
      "text/plain": [
       "<Figure size 504x504 with 1 Axes>"
      ]
     },
     "metadata": {
      "needs_background": "light"
     },
     "output_type": "display_data"
    }
   ],
   "source": [
    "group_difference = percent_convertion[1]-percent_convertion[0]\n",
    "\n",
    "fig, ax = plt.subplots(figsize=(7,7))\n",
    "ax.hist(permutation_differences, bins=10)\n",
    "ax.axvline(x=group_difference, color='red', lw=2)\n",
    "ax.set_xlabel('Conversion Difference')\n",
    "ax.set_ylabel('Frequency')\n",
    "ax.set_title('Permutation Test')"
   ]
  },
  {
   "cell_type": "code",
   "execution_count": 62,
   "id": "83932070-b882-4ba6-83e9-c9a08b5f4ac9",
   "metadata": {},
   "outputs": [
    {
     "name": "stdout",
     "output_type": "stream",
     "text": [
      "The p-value is:  0.1045\n"
     ]
    }
   ],
   "source": [
    "p_value = (permutation_differences <= group_difference).sum() / len(permutation_differences)\n",
    "print('The p-value is: ', p_value)"
   ]
  },
  {
   "cell_type": "markdown",
   "id": "06f92400-0742-4c30-ab29-17ee9b55ff68",
   "metadata": {},
   "source": [
    "# Power and Sample Size "
   ]
  },
  {
   "cell_type": "markdown",
   "id": "3499fdc7-018b-4424-81e7-135e0520bedb",
   "metadata": {},
   "source": [
    "## Section Summary <a class=\"anchor\" id=\"#section13\"></a>\n",
    "A sample of close to 300,000 observations was available for the analysis. All of the data was used during the analysis. If I performed the experiment, I would have, before beginning the collection of data, estimated the required sample size. This step is especially important if the data collection is costly or requires time and effort.\n",
    "\n",
    "Despite what many web testing guides would say, there is no general guidance to estimate the sample size, it depends mainly on the frequency with which the desired goal is attained. To calculate the required sample size, we need to specify 3 parameters:\n",
    "- The effect size we want to detect (for example 5% increase in conversion)\n",
    "- The signficance level (alpha) at which the test will be conducted (0.05 is the traditionnal value)\n",
    "- The power (the probability of detecting a given effect size with a given sample size)\n",
    "\n",
    "In the following section, we calculate the sample size to achieve have a 95% probability (power) of detecting a significant (alpha=0.05) 5% increase in conversion (effect size).\n",
    "We also the variation in sample size required when changing the power. We get the following insights:\n",
    "- A sample of 64602 observations is necessary to have a 95% chance detecting a 5% increase in conversions with an alpha of 0.05.\n",
    "- A sample of 20000 observations is enough to have a 50% chance detecting a 5% increase in conversions with an alpha of 0.05."
   ]
  },
  {
   "cell_type": "markdown",
   "id": "a5ca398f-ad33-4109-9146-ce77c19f1a43",
   "metadata": {},
   "source": [
    "## Section Code <a class=\"anchor\" id=\"#section14\"></a>"
   ]
  },
  {
   "cell_type": "markdown",
   "id": "d8ee33d9-5c11-4a12-99f4-157a3656639b",
   "metadata": {},
   "source": [
    "### Required Sample Size with Given Parameters <a class=\"anchor\" id=\"#section15\"></a>"
   ]
  },
  {
   "cell_type": "code",
   "execution_count": 63,
   "id": "88e4c714-358b-4ca4-a747-d752b1133e31",
   "metadata": {},
   "outputs": [
    {
     "name": "stdout",
     "output_type": "stream",
     "text": [
      "The required sample to have a 95% change of detecting a 5% increase in conversion with an alpha of 0.05 is 64602 .\n"
     ]
    }
   ],
   "source": [
    "effect_size = 0.05\n",
    "power = 0.95\n",
    "control = percent_convertion[0]\n",
    "alpha = 0.05\n",
    "\n",
    "sample_size = sample_from_power(effect_size, power, control, alpha)\n",
    "\n",
    "print('The required sample to have a 95% change of detecting a 5% increase in conversion with an alpha of 0.05 is', round(sample_size), '.')"
   ]
  },
  {
   "cell_type": "markdown",
   "id": "691c49ca-1510-42d6-a621-f3eddb4a4251",
   "metadata": {},
   "source": [
    "### Effect of Power on Sample Size <a class=\"anchor\" id=\"#section16\"></a>"
   ]
  },
  {
   "cell_type": "code",
   "execution_count": 64,
   "id": "101e2f03-b10e-4308-b5d9-0443ef43532c",
   "metadata": {},
   "outputs": [
    {
     "data": {
      "text/plain": [
       "Text(0.5, 1.0, 'Sampling Effort vs Probability of Finding Effect')"
      ]
     },
     "execution_count": 64,
     "metadata": {},
     "output_type": "execute_result"
    },
    {
     "data": {
      "image/png": "[encoded data removed]",
      "text/plain": [
       "<Figure size 504x504 with 1 Axes>"
      ]
     },
     "metadata": {
      "needs_background": "light"
     },
     "output_type": "display_data"
    }
   ],
   "source": [
    "sample_vs_power = []\n",
    "for i in range(10,100,1):\n",
    "    power=i/100\n",
    "    sample_size = sample_from_power(effect_size, power, control, alpha)\n",
    "    sample_vs_power.append((power, sample_size))\n",
    "\n",
    "sample_vs_power = pd.DataFrame(sample_vs_power)\n",
    "sample_vs_power = sample_vs_power.set_index(0)\n",
    "\n",
    "fig, ax = plt.subplots(figsize=(7,7))\n",
    "ax.plot(sample_vs_power)\n",
    "ax.set_xlabel('Power')\n",
    "ax.set_ylabel('Required Sample Size')\n",
    "ax.set_title('Sampling Effort vs Probability of Finding Effect')"
   ]
  }
 ],
 "metadata": {
  "kernelspec": {
   "display_name": "Python 3",
   "language": "python",
   "name": "python3"
  },
  "language_info": {
   "codemirror_mode": {
    "name": "ipython",
    "version": 3
   },
   "file_extension": ".py",
   "mimetype": "text/x-python",
   "name": "python",
   "nbconvert_exporter": "python",
   "pygments_lexer": "ipython3",
   "version": "3.9.4"
  },
  "toc-autonumbering": true
 },
 "nbformat": 4,
 "nbformat_minor": 5
}
